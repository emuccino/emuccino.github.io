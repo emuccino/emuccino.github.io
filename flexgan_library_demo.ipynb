{
  "nbformat": 4,
  "nbformat_minor": 0,
  "metadata": {
    "colab": {
      "name": "flexgan library demo.ipynb",
      "provenance": [],
      "collapsed_sections": [],
      "include_colab_link": true
    },
    "kernelspec": {
      "name": "python3",
      "display_name": "Python 3"
    },
    "accelerator": "GPU"
  },
  "cells": [
    {
      "cell_type": "markdown",
      "metadata": {
        "id": "view-in-github",
        "colab_type": "text"
      },
      "source": [
        "<a href=\"https://colab.research.google.com/github/emuccino/emuccino.github.io/blob/master/flexgan_library_demo.ipynb\" target=\"_parent\"><img src=\"https://colab.research.google.com/assets/colab-badge.svg\" alt=\"Open In Colab\"/></a>"
      ]
    },
    {
      "cell_type": "code",
      "metadata": {
        "id": "XWTT-zFqzoNJ",
        "colab_type": "code",
        "colab": {},
        "cellView": "both"
      },
      "source": [
        "!pip install flexgan"
      ],
      "execution_count": null,
      "outputs": []
    },
    {
      "cell_type": "code",
      "metadata": {
        "id": "yg644sTYrisi",
        "colab_type": "code",
        "colab": {}
      },
      "source": [
        "import flexgan as flex\n",
        "\n",
        "import matplotlib.pyplot as plt\n",
        "import pandas as pd\n",
        "import numpy as np\n",
        "\n",
        "from tensorflow.keras.datasets import boston_housing"
      ],
      "execution_count": null,
      "outputs": []
    },
    {
      "cell_type": "code",
      "metadata": {
        "id": "IYjOTJd_rnLn",
        "colab_type": "code",
        "colab": {}
      },
      "source": [
        "#load data\n",
        "\n",
        "(train_x, train_y), (test_x, test_y) = boston_housing.load_data()"
      ],
      "execution_count": null,
      "outputs": []
    },
    {
      "cell_type": "code",
      "metadata": {
        "id": "S1eHeeBDrtRs",
        "colab_type": "code",
        "colab": {}
      },
      "source": [
        "#setup dataframe\n",
        "\n",
        "df = pd.DataFrame(np.vstack([np.hstack([train_x, train_y.reshape(-1,1)]),np.hstack([test_x, test_y.reshape(-1,1)])]), columns=[str(i) for i in range(train_x.shape[-1] + 1)])"
      ],
      "execution_count": null,
      "outputs": []
    },
    {
      "cell_type": "code",
      "metadata": {
        "id": "pWzt7FmDrvbq",
        "colab_type": "code",
        "colab": {}
      },
      "source": [
        "#initialize the data generator\n",
        "\n",
        "my_generator = flex.generator(df)"
      ],
      "execution_count": null,
      "outputs": []
    },
    {
      "cell_type": "code",
      "metadata": {
        "id": "rIfvkVCXrxIH",
        "colab_type": "code",
        "colab": {}
      },
      "source": [
        "#train the data generator\n",
        "\n",
        "my_generator.train()"
      ],
      "execution_count": null,
      "outputs": []
    },
    {
      "cell_type": "code",
      "metadata": {
        "id": "Zt29XWBPtPtw",
        "colab_type": "code",
        "colab": {}
      },
      "source": [
        "#generate data\n",
        "\n",
        "my_generator.generate_data()"
      ],
      "execution_count": null,
      "outputs": []
    }
  ]
}